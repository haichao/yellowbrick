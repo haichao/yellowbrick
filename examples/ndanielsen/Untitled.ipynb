{
 "cells": [
  {
   "cell_type": "code",
   "execution_count": 3,
   "metadata": {
    "collapsed": false
   },
   "outputs": [],
   "source": [
    "X = np.array(\n",
    "        [[ 2.318, 2.727, 4.260, 7.212, 4.792],\n",
    "         [ 2.315, 2.726, 4.295, 7.140, 4.783,],\n",
    "         [ 2.315, 2.724, 4.260, 7.135, 4.779,],\n",
    "         [ 2.110, 3.609, 4.330, 7.985, 5.595,],\n",
    "         [ 2.110, 3.626, 4.330, 8.203, 5.621,],\n",
    "         [ 2.110, 3.620, 4.470, 8.210, 5.612,],\n",
    "         [ 2.318, 2.727, 4.260, 7.212, 4.792,],\n",
    "         [ 2.315, 2.726, 4.295, 7.140, 4.783,],\n",
    "         [ 2.315, 2.724, 4.260, 7.135, 4.779,],\n",
    "         [ 2.110, 3.609, 4.330, 7.985, 5.595,],\n",
    "         [ 2.110, 3.626, 4.330, 8.203, 5.621,],\n",
    "         [ 2.110, 3.620, 4.470, 8.210, 5.612,]]\n",
    "    )\n",
    "\n",
    "y = np.array([0.23, .33, .31, .3, .24, .32, 0.23, .33, .31, .3, .24, .32])"
   ]
  },
  {
   "cell_type": "code",
   "execution_count": 2,
   "metadata": {
    "collapsed": true
   },
   "outputs": [],
   "source": [
    "import numpy as np"
   ]
  },
  {
   "cell_type": "code",
   "execution_count": 5,
   "metadata": {
    "collapsed": false
   },
   "outputs": [
    {
     "data": {
      "text/plain": [
       "array([[ 2.318,  2.727,  4.26 ],\n",
       "       [ 2.315,  2.726,  4.295],\n",
       "       [ 2.315,  2.724,  4.26 ],\n",
       "       [ 2.11 ,  3.609,  4.33 ],\n",
       "       [ 2.11 ,  3.626,  4.33 ],\n",
       "       [ 2.11 ,  3.62 ,  4.47 ],\n",
       "       [ 2.318,  2.727,  4.26 ],\n",
       "       [ 2.315,  2.726,  4.295],\n",
       "       [ 2.315,  2.724,  4.26 ],\n",
       "       [ 2.11 ,  3.609,  4.33 ],\n",
       "       [ 2.11 ,  3.626,  4.33 ],\n",
       "       [ 2.11 ,  3.62 ,  4.47 ]])"
      ]
     },
     "execution_count": 5,
     "metadata": {},
     "output_type": "execute_result"
    }
   ],
   "source": [
    " X[:,:3]"
   ]
  },
  {
   "cell_type": "code",
   "execution_count": null,
   "metadata": {
    "collapsed": true
   },
   "outputs": [],
   "source": []
  }
 ],
 "metadata": {
  "kernelspec": {
   "display_name": "Python 3",
   "language": "python",
   "name": "python3"
  },
  "language_info": {
   "codemirror_mode": {
    "name": "ipython",
    "version": 3
   },
   "file_extension": ".py",
   "mimetype": "text/x-python",
   "name": "python",
   "nbconvert_exporter": "python",
   "pygments_lexer": "ipython3",
   "version": "3.5.2"
  }
 },
 "nbformat": 4,
 "nbformat_minor": 2
}
